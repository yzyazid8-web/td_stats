{
 "cells": [
  {
   "cell_type": "code",
   "execution_count": 17,
   "metadata": {},
   "outputs": [],
   "source": [
    "import numpy as np\n",
    "import random\n",
    "import pandas as pd\n",
    "import matplotlib.pyplot as plt"
   ]
  },
  {
   "cell_type": "code",
   "execution_count": 2,
   "metadata": {},
   "outputs": [],
   "source": [
    "# Création d'une matrice aléatoire sous forme de liste de listes\n",
    "taille = 2\n",
    "A = [[random.random() for _ in range(taille)] for _ in range(taille)]"
   ]
  },
  {
   "cell_type": "code",
   "execution_count": 3,
   "metadata": {},
   "outputs": [
    {
     "name": "stdout",
     "output_type": "stream",
     "text": [
      "(2, 2)\n"
     ]
    }
   ],
   "source": [
    "\"\"\"\n",
    "EXERCICE - Afficher un tuple contenant les dimensions de la matrice A\n",
    "\"\"\"\n",
    "dim = (len(A), len(A[0]))\n",
    "print(dim)"
   ]
  },
  {
   "cell_type": "code",
   "execution_count": 4,
   "metadata": {},
   "outputs": [
    {
     "name": "stdout",
     "output_type": "stream",
     "text": [
      "\n",
      "Produit A * A :\n",
      "[0.5955882991466873, 0.1350215496092369]\n",
      "[0.22517861421320146, 0.5733978871062368]\n"
     ]
    }
   ],
   "source": [
    "\"\"\"\n",
    "EXERCICE - Implémenter le produit matriciel de 2 matrices sous forme de listes de listes python\n",
    "\"\"\"\n",
    "def produit(A, B):\n",
    "    \n",
    "    lignes = len(A)\n",
    "    colonnes = len(B[0])\n",
    "    C = [[0 for _ in range(colonnes)] for _ in range(lignes)]\n",
    "    \n",
    "    for i in range(lignes):\n",
    "        for j in range(colonnes):\n",
    "            for k in range(len(B)):\n",
    "                C[i][j] += A[i][k] * B[k][j]\n",
    "    return C\n",
    "\n",
    "# Affichage\n",
    "print(\"\\nProduit A * A :\")\n",
    "C = produit(A, A)\n",
    "for row in C:\n",
    "    print(row)\n"
   ]
  },
  {
   "cell_type": "code",
   "execution_count": 5,
   "metadata": {},
   "outputs": [
    {
     "name": "stderr",
     "output_type": "stream",
     "text": [
      "fatal: destination path 'TDs-statistiques-descriptives' already exists and is not an empty directory.\n"
     ]
    }
   ],
   "source": [
    "!git clone https://github.com/MadaneA/TDs-statistiques-descriptives.git"
   ]
  },
  {
   "cell_type": "code",
   "execution_count": 6,
   "metadata": {},
   "outputs": [],
   "source": [
    "import os\n",
    "os.chdir('TDs-statistiques-descriptives')"
   ]
  },
  {
   "cell_type": "code",
   "execution_count": 7,
   "metadata": {},
   "outputs": [
    {
     "data": {
      "text/plain": [
       "'c:\\\\Users\\\\Yazid\\\\Desktop\\\\TD Stat\\\\TD1\\\\TDs-statistiques-descriptives'"
      ]
     },
     "execution_count": 7,
     "metadata": {},
     "output_type": "execute_result"
    }
   ],
   "source": [
    " os.getcwd()"
   ]
  },
  {
   "cell_type": "code",
   "execution_count": 8,
   "metadata": {},
   "outputs": [
    {
     "data": {
      "text/html": [
       "<div>\n",
       "<style scoped>\n",
       "    .dataframe tbody tr th:only-of-type {\n",
       "        vertical-align: middle;\n",
       "    }\n",
       "\n",
       "    .dataframe tbody tr th {\n",
       "        vertical-align: top;\n",
       "    }\n",
       "\n",
       "    .dataframe thead th {\n",
       "        text-align: right;\n",
       "    }\n",
       "</style>\n",
       "<table border=\"1\" class=\"dataframe\">\n",
       "  <thead>\n",
       "    <tr style=\"text-align: right;\">\n",
       "      <th></th>\n",
       "      <th>t</th>\n",
       "      <th>EGT_SEL</th>\n",
       "      <th>FLIGHT_MOD</th>\n",
       "      <th>FMV_SEL</th>\n",
       "      <th>HPTC_SEL</th>\n",
       "      <th>LPTC_SEL</th>\n",
       "      <th>N1_SEL</th>\n",
       "      <th>N2_ACTSEL</th>\n",
       "      <th>OIL_P</th>\n",
       "      <th>OIL_TEMP</th>\n",
       "      <th>...</th>\n",
       "      <th>T25_SEL</th>\n",
       "      <th>T3_SEL</th>\n",
       "      <th>VBV_SEL</th>\n",
       "      <th>VIB_CN1</th>\n",
       "      <th>VIB_CN2</th>\n",
       "      <th>VIB_TN1</th>\n",
       "      <th>VIB_TN2</th>\n",
       "      <th>VSV_SEL</th>\n",
       "      <th>WFM_SEL</th>\n",
       "      <th>XM</th>\n",
       "    </tr>\n",
       "  </thead>\n",
       "  <tbody>\n",
       "    <tr>\n",
       "      <th>0</th>\n",
       "      <td>datenum</td>\n",
       "      <td>deg_C</td>\n",
       "      <td>_</td>\n",
       "      <td>_</td>\n",
       "      <td>%</td>\n",
       "      <td>%</td>\n",
       "      <td>%</td>\n",
       "      <td>%_RPM</td>\n",
       "      <td>psi</td>\n",
       "      <td>_</td>\n",
       "      <td>...</td>\n",
       "      <td>_</td>\n",
       "      <td>_</td>\n",
       "      <td>DEG</td>\n",
       "      <td>_</td>\n",
       "      <td>_</td>\n",
       "      <td>_</td>\n",
       "      <td>_</td>\n",
       "      <td>DEG</td>\n",
       "      <td>lb/h</td>\n",
       "      <td>mach</td>\n",
       "    </tr>\n",
       "    <tr>\n",
       "      <th>1</th>\n",
       "      <td>15/09/2011 14:25:58.125</td>\n",
       "      <td>NaN</td>\n",
       "      <td>NaN</td>\n",
       "      <td>NaN</td>\n",
       "      <td>NaN</td>\n",
       "      <td>NaN</td>\n",
       "      <td>NaN</td>\n",
       "      <td>0</td>\n",
       "      <td>NaN</td>\n",
       "      <td>NaN</td>\n",
       "      <td>...</td>\n",
       "      <td>NaN</td>\n",
       "      <td>NaN</td>\n",
       "      <td>NaN</td>\n",
       "      <td>NaN</td>\n",
       "      <td>NaN</td>\n",
       "      <td>NaN</td>\n",
       "      <td>NaN</td>\n",
       "      <td>NaN</td>\n",
       "      <td>NaN</td>\n",
       "      <td>NaN</td>\n",
       "    </tr>\n",
       "    <tr>\n",
       "      <th>2</th>\n",
       "      <td>15/09/2011 14:25:58.375</td>\n",
       "      <td>NaN</td>\n",
       "      <td>NaN</td>\n",
       "      <td>NaN</td>\n",
       "      <td>NaN</td>\n",
       "      <td>NaN</td>\n",
       "      <td>NaN</td>\n",
       "      <td>0</td>\n",
       "      <td>NaN</td>\n",
       "      <td>NaN</td>\n",
       "      <td>...</td>\n",
       "      <td>NaN</td>\n",
       "      <td>NaN</td>\n",
       "      <td>NaN</td>\n",
       "      <td>NaN</td>\n",
       "      <td>NaN</td>\n",
       "      <td>NaN</td>\n",
       "      <td>NaN</td>\n",
       "      <td>NaN</td>\n",
       "      <td>NaN</td>\n",
       "      <td>NaN</td>\n",
       "    </tr>\n",
       "    <tr>\n",
       "      <th>3</th>\n",
       "      <td>15/09/2011 14:25:58.625</td>\n",
       "      <td>NaN</td>\n",
       "      <td>NaN</td>\n",
       "      <td>NaN</td>\n",
       "      <td>NaN</td>\n",
       "      <td>NaN</td>\n",
       "      <td>NaN</td>\n",
       "      <td>0</td>\n",
       "      <td>NaN</td>\n",
       "      <td>NaN</td>\n",
       "      <td>...</td>\n",
       "      <td>NaN</td>\n",
       "      <td>NaN</td>\n",
       "      <td>NaN</td>\n",
       "      <td>NaN</td>\n",
       "      <td>NaN</td>\n",
       "      <td>NaN</td>\n",
       "      <td>NaN</td>\n",
       "      <td>NaN</td>\n",
       "      <td>NaN</td>\n",
       "      <td>NaN</td>\n",
       "    </tr>\n",
       "    <tr>\n",
       "      <th>4</th>\n",
       "      <td>15/09/2011 14:25:58.875</td>\n",
       "      <td>NaN</td>\n",
       "      <td>NaN</td>\n",
       "      <td>NaN</td>\n",
       "      <td>NaN</td>\n",
       "      <td>NaN</td>\n",
       "      <td>NaN</td>\n",
       "      <td>0</td>\n",
       "      <td>NaN</td>\n",
       "      <td>NaN</td>\n",
       "      <td>...</td>\n",
       "      <td>NaN</td>\n",
       "      <td>NaN</td>\n",
       "      <td>NaN</td>\n",
       "      <td>NaN</td>\n",
       "      <td>NaN</td>\n",
       "      <td>NaN</td>\n",
       "      <td>NaN</td>\n",
       "      <td>NaN</td>\n",
       "      <td>7679.98</td>\n",
       "      <td>0.15</td>\n",
       "    </tr>\n",
       "  </tbody>\n",
       "</table>\n",
       "<p>5 rows × 26 columns</p>\n",
       "</div>"
      ],
      "text/plain": [
       "                         t EGT_SEL FLIGHT_MOD FMV_SEL HPTC_SEL LPTC_SEL  \\\n",
       "0                  datenum   deg_C          _       _        %        %   \n",
       "1  15/09/2011 14:25:58.125     NaN        NaN     NaN      NaN      NaN   \n",
       "2  15/09/2011 14:25:58.375     NaN        NaN     NaN      NaN      NaN   \n",
       "3  15/09/2011 14:25:58.625     NaN        NaN     NaN      NaN      NaN   \n",
       "4  15/09/2011 14:25:58.875     NaN        NaN     NaN      NaN      NaN   \n",
       "\n",
       "  N1_SEL N2_ACTSEL OIL_P OIL_TEMP  ... T25_SEL T3_SEL VBV_SEL VIB_CN1 VIB_CN2  \\\n",
       "0      %     %_RPM   psi        _  ...       _      _     DEG       _       _   \n",
       "1    NaN         0   NaN      NaN  ...     NaN    NaN     NaN     NaN     NaN   \n",
       "2    NaN         0   NaN      NaN  ...     NaN    NaN     NaN     NaN     NaN   \n",
       "3    NaN         0   NaN      NaN  ...     NaN    NaN     NaN     NaN     NaN   \n",
       "4    NaN         0   NaN      NaN  ...     NaN    NaN     NaN     NaN     NaN   \n",
       "\n",
       "  VIB_TN1 VIB_TN2 VSV_SEL  WFM_SEL    XM  \n",
       "0       _       _     DEG     lb/h  mach  \n",
       "1     NaN     NaN     NaN      NaN   NaN  \n",
       "2     NaN     NaN     NaN      NaN   NaN  \n",
       "3     NaN     NaN     NaN      NaN   NaN  \n",
       "4     NaN     NaN     NaN  7679.98  0.15  \n",
       "\n",
       "[5 rows x 26 columns]"
      ]
     },
     "execution_count": 8,
     "metadata": {},
     "output_type": "execute_result"
    }
   ],
   "source": [
    "# Chargement d'un fichier CSV ou Excel\n",
    "df = pd.read_csv(\"./data/Vol010.csv\")\n",
    "# Affichage des 5 premières lignes\n",
    "df.head()"
   ]
  },
  {
   "cell_type": "code",
   "execution_count": 9,
   "metadata": {},
   "outputs": [
    {
     "name": "stdout",
     "output_type": "stream",
     "text": [
      "Nombre de lignes : 22945\n",
      "Nombre de colonnes : 26\n"
     ]
    }
   ],
   "source": [
    "\"\"\"\n",
    "EXERCICE - Dimensions d'un DataFrame\n",
    "Affichez le nombre de colonnes et de ligne du DataFrame (indice : beaucoup de méthodes sont communes entre numpy et pandas)\n",
    "\"\"\"\n",
    "\n",
    "#Afficher le nombre de lignes et de colonnes\n",
    "n_lignes, n_colonnes = df.shape\n",
    "print(f\"Nombre de lignes : {n_lignes}\")\n",
    "print(f\"Nombre de colonnes : {n_colonnes}\")\n"
   ]
  },
  {
   "cell_type": "code",
   "execution_count": 10,
   "metadata": {},
   "outputs": [
    {
     "name": "stdout",
     "output_type": "stream",
     "text": [
      "Unités des colonnes :\n",
      "t             datenum\n",
      "EGT_SEL         deg_C\n",
      "FLIGHT_MOD          _\n",
      "FMV_SEL             _\n",
      "HPTC_SEL            %\n",
      "LPTC_SEL            %\n",
      "N1_SEL              %\n",
      "N2_ACTSEL       %_RPM\n",
      "OIL_P             psi\n",
      "OIL_TEMP            _\n",
      "PS3_SEL           psi\n",
      "PT2_SEL            mb\n",
      "P0_SEL            psi\n",
      "TAT             deg_C\n",
      "TBV_SEL             %\n",
      "TRA_SEL           DEG\n",
      "T25_SEL             _\n",
      "T3_SEL              _\n",
      "VBV_SEL           DEG\n",
      "VIB_CN1             _\n",
      "VIB_CN2             _\n",
      "VIB_TN1             _\n",
      "VIB_TN2             _\n",
      "VSV_SEL           DEG\n",
      "WFM_SEL          lb/h\n",
      "XM               mach\n",
      "Name: 0, dtype: object\n"
     ]
    }
   ],
   "source": [
    "\"\"\"\n",
    "EXERCICE - Extraction et suppression des unités\n",
    "On remarque que la 1ère ligne ne contient pas de données mais les unités de chaque colonne.\n",
    "Pour la suite des traitements, il faut supprimer cette ligne. On souhaite toutefois garder l'information des unités de chaque colonne.\n",
    "1. Récupérez les unités et stockez les dans une structure adaptée.\n",
    "2. Supprimez cette ligne du DataFrame en utilisant la méthode \"drop\"\n",
    "\"\"\"\n",
    "\n",
    "#Récupérer la première ligne (les unités)\n",
    "unites = df.iloc[0]\n",
    "print(\"Unités des colonnes :\")\n",
    "print(unites)\n",
    "\n",
    "#Supprimer la première ligne du DataFrame\n",
    "df = df.drop(index=0).reset_index(drop=True)\n"
   ]
  },
  {
   "cell_type": "code",
   "execution_count": 11,
   "metadata": {},
   "outputs": [
    {
     "name": "stdout",
     "output_type": "stream",
     "text": [
      "                        EGT_SEL FLIGHT_MOD FMV_SEL HPTC_SEL LPTC_SEL N1_SEL  \\\n",
      "t                                                                             \n",
      "15/09/2011 14:25:58.125     NaN        NaN     NaN      NaN      NaN    NaN   \n",
      "15/09/2011 14:25:58.375     NaN        NaN     NaN      NaN      NaN    NaN   \n",
      "15/09/2011 14:25:58.625     NaN        NaN     NaN      NaN      NaN    NaN   \n",
      "15/09/2011 14:25:58.875     NaN        NaN     NaN      NaN      NaN    NaN   \n",
      "15/09/2011 14:25:59.125     NaN        NaN     NaN      NaN      NaN      0   \n",
      "\n",
      "                        N2_ACTSEL    OIL_P OIL_TEMP  PS3_SEL  ... T25_SEL  \\\n",
      "t                                                             ...           \n",
      "15/09/2011 14:25:58.125         0      NaN      NaN      NaN  ...     NaN   \n",
      "15/09/2011 14:25:58.375         0      NaN      NaN      NaN  ...     NaN   \n",
      "15/09/2011 14:25:58.625         0      NaN      NaN      NaN  ...     NaN   \n",
      "15/09/2011 14:25:58.875         0      NaN      NaN      NaN  ...     NaN   \n",
      "15/09/2011 14:25:59.125         0  647.998      NaN  575.982  ...     NaN   \n",
      "\n",
      "                        T3_SEL VBV_SEL VIB_CN1 VIB_CN2 VIB_TN1 VIB_TN2  \\\n",
      "t                                                                        \n",
      "15/09/2011 14:25:58.125    NaN     NaN     NaN     NaN     NaN     NaN   \n",
      "15/09/2011 14:25:58.375    NaN     NaN     NaN     NaN     NaN     NaN   \n",
      "15/09/2011 14:25:58.625    NaN     NaN     NaN     NaN     NaN     NaN   \n",
      "15/09/2011 14:25:58.875    NaN     NaN     NaN     NaN     NaN     NaN   \n",
      "15/09/2011 14:25:59.125    NaN       0       0       0       0       0   \n",
      "\n",
      "                        VSV_SEL  WFM_SEL    XM  \n",
      "t                                               \n",
      "15/09/2011 14:25:58.125     NaN      NaN   NaN  \n",
      "15/09/2011 14:25:58.375     NaN      NaN   NaN  \n",
      "15/09/2011 14:25:58.625     NaN      NaN   NaN  \n",
      "15/09/2011 14:25:58.875     NaN  7679.98  0.15  \n",
      "15/09/2011 14:25:59.125       0  4607.86  0.15  \n",
      "\n",
      "[5 rows x 25 columns]\n"
     ]
    }
   ],
   "source": [
    "\"\"\"\n",
    "Exercice - Index temporel\n",
    "Comme nos données sont une série temporelle multivariée, on souhaite utiliser un index temporel.\n",
    "1. Créez une copie de df, appelée df2, à l'aide de la méthode du même nom.\n",
    "2. Affectez la colonne du temps ('t') en tant qu'indice du DataFrame.\n",
    "3. Supprimez la colonne 't' du DF résultant.\n",
    "\"\"\"\n",
    "\n",
    "#Créer une copie\n",
    "df2 = df.copy()\n",
    "\n",
    "#Affecter la colonne 't' comme index\n",
    "df2 = df2.set_index('t')\n",
    "\n",
    "#Vérifier que la colonne 't' est bien supprimée\n",
    "print(df2.head())\n"
   ]
  },
  {
   "cell_type": "code",
   "execution_count": 12,
   "metadata": {},
   "outputs": [
    {
     "name": "stdout",
     "output_type": "stream",
     "text": [
      "                         EGT_SEL  FLIGHT_MOD  FMV_SEL  HPTC_SEL  LPTC_SEL  \\\n",
      "t                                                                           \n",
      "15/09/2011 14:25:58.125     True        True     True      True      True   \n",
      "15/09/2011 14:25:58.375     True        True     True      True      True   \n",
      "15/09/2011 14:25:58.625     True        True     True      True      True   \n",
      "15/09/2011 14:25:58.875     True        True     True      True      True   \n",
      "15/09/2011 14:25:59.125     True        True     True      True      True   \n",
      "...                          ...         ...      ...       ...       ...   \n",
      "15/09/2011 16:01:32.875     True        True     True      True      True   \n",
      "15/09/2011 16:01:33.125     True        True     True      True      True   \n",
      "15/09/2011 16:01:33.375     True        True     True      True      True   \n",
      "15/09/2011 16:01:33.625     True        True     True      True      True   \n",
      "15/09/2011 16:01:33.875     True        True     True      True      True   \n",
      "\n",
      "                         N1_SEL  N2_ACTSEL  OIL_P  OIL_TEMP  PS3_SEL  ...  \\\n",
      "t                                                                     ...   \n",
      "15/09/2011 14:25:58.125    True      False   True      True     True  ...   \n",
      "15/09/2011 14:25:58.375    True      False   True      True     True  ...   \n",
      "15/09/2011 14:25:58.625    True      False   True      True     True  ...   \n",
      "15/09/2011 14:25:58.875    True      False   True      True     True  ...   \n",
      "15/09/2011 14:25:59.125   False      False  False      True    False  ...   \n",
      "...                         ...        ...    ...       ...      ...  ...   \n",
      "15/09/2011 16:01:32.875    True       True   True      True     True  ...   \n",
      "15/09/2011 16:01:33.125    True       True   True      True     True  ...   \n",
      "15/09/2011 16:01:33.375    True       True   True      True     True  ...   \n",
      "15/09/2011 16:01:33.625    True       True   True      True     True  ...   \n",
      "15/09/2011 16:01:33.875    True       True   True      True     True  ...   \n",
      "\n",
      "                         T25_SEL  T3_SEL  VBV_SEL  VIB_CN1  VIB_CN2  VIB_TN1  \\\n",
      "t                                                                              \n",
      "15/09/2011 14:25:58.125     True    True     True     True     True     True   \n",
      "15/09/2011 14:25:58.375     True    True     True     True     True     True   \n",
      "15/09/2011 14:25:58.625     True    True     True     True     True     True   \n",
      "15/09/2011 14:25:58.875     True    True     True     True     True     True   \n",
      "15/09/2011 14:25:59.125     True    True    False    False    False    False   \n",
      "...                          ...     ...      ...      ...      ...      ...   \n",
      "15/09/2011 16:01:32.875     True    True     True     True     True     True   \n",
      "15/09/2011 16:01:33.125     True    True     True     True     True     True   \n",
      "15/09/2011 16:01:33.375     True    True     True     True     True     True   \n",
      "15/09/2011 16:01:33.625     True    True     True     True     True     True   \n",
      "15/09/2011 16:01:33.875     True    True     True     True     True     True   \n",
      "\n",
      "                         VIB_TN2  VSV_SEL  WFM_SEL     XM  \n",
      "t                                                          \n",
      "15/09/2011 14:25:58.125     True     True     True   True  \n",
      "15/09/2011 14:25:58.375     True     True     True   True  \n",
      "15/09/2011 14:25:58.625     True     True     True   True  \n",
      "15/09/2011 14:25:58.875     True     True    False  False  \n",
      "15/09/2011 14:25:59.125    False    False    False  False  \n",
      "...                          ...      ...      ...    ...  \n",
      "15/09/2011 16:01:32.875     True     True     True   True  \n",
      "15/09/2011 16:01:33.125     True     True     True   True  \n",
      "15/09/2011 16:01:33.375     True     True     True   True  \n",
      "15/09/2011 16:01:33.625     True     True     True   True  \n",
      "15/09/2011 16:01:33.875     True     True     True   True  \n",
      "\n",
      "[22944 rows x 25 columns]\n"
     ]
    },
    {
     "ename": "KeyError",
     "evalue": "'colonne1'",
     "output_type": "error",
     "traceback": [
      "\u001b[1;31m---------------------------------------------------------------------------\u001b[0m",
      "\u001b[1;31mKeyError\u001b[0m                                  Traceback (most recent call last)",
      "File \u001b[1;32mc:\\Users\\Yazid\\AppData\\Local\\Programs\\Python\\Python312\\Lib\\site-packages\\pandas\\core\\indexes\\base.py:3805\u001b[0m, in \u001b[0;36mIndex.get_loc\u001b[1;34m(self, key)\u001b[0m\n\u001b[0;32m   3804\u001b[0m \u001b[38;5;28;01mtry\u001b[39;00m:\n\u001b[1;32m-> 3805\u001b[0m     \u001b[38;5;28;01mreturn\u001b[39;00m \u001b[38;5;28;43mself\u001b[39;49m\u001b[38;5;241;43m.\u001b[39;49m\u001b[43m_engine\u001b[49m\u001b[38;5;241;43m.\u001b[39;49m\u001b[43mget_loc\u001b[49m\u001b[43m(\u001b[49m\u001b[43mcasted_key\u001b[49m\u001b[43m)\u001b[49m\n\u001b[0;32m   3806\u001b[0m \u001b[38;5;28;01mexcept\u001b[39;00m \u001b[38;5;167;01mKeyError\u001b[39;00m \u001b[38;5;28;01mas\u001b[39;00m err:\n",
      "File \u001b[1;32mindex.pyx:167\u001b[0m, in \u001b[0;36mpandas._libs.index.IndexEngine.get_loc\u001b[1;34m()\u001b[0m\n",
      "File \u001b[1;32mindex.pyx:196\u001b[0m, in \u001b[0;36mpandas._libs.index.IndexEngine.get_loc\u001b[1;34m()\u001b[0m\n",
      "File \u001b[1;32mpandas\\\\_libs\\\\hashtable_class_helper.pxi:7081\u001b[0m, in \u001b[0;36mpandas._libs.hashtable.PyObjectHashTable.get_item\u001b[1;34m()\u001b[0m\n",
      "File \u001b[1;32mpandas\\\\_libs\\\\hashtable_class_helper.pxi:7089\u001b[0m, in \u001b[0;36mpandas._libs.hashtable.PyObjectHashTable.get_item\u001b[1;34m()\u001b[0m\n",
      "\u001b[1;31mKeyError\u001b[0m: 'colonne1'",
      "\nThe above exception was the direct cause of the following exception:\n",
      "\u001b[1;31mKeyError\u001b[0m                                  Traceback (most recent call last)",
      "Cell \u001b[1;32mIn[12], line 12\u001b[0m\n\u001b[0;32m     10\u001b[0m \u001b[38;5;66;03m#Tester isna()\u001b[39;00m\n\u001b[0;32m     11\u001b[0m \u001b[38;5;28mprint\u001b[39m(df2\u001b[38;5;241m.\u001b[39misna())              \n\u001b[1;32m---> 12\u001b[0m \u001b[38;5;28mprint\u001b[39m(\u001b[43mdf2\u001b[49m\u001b[43m[\u001b[49m\u001b[38;5;124;43m'\u001b[39;49m\u001b[38;5;124;43mcolonne1\u001b[39;49m\u001b[38;5;124;43m'\u001b[39;49m\u001b[43m]\u001b[49m\u001b[38;5;241m.\u001b[39misna())  \n\u001b[0;32m     13\u001b[0m \u001b[38;5;28mprint\u001b[39m(df2\u001b[38;5;241m.\u001b[39mloc[\u001b[38;5;241m0\u001b[39m]\u001b[38;5;241m.\u001b[39misna())      \n\u001b[0;32m     15\u001b[0m \u001b[38;5;66;03m#2️.1 Colonnes contenant des NaN\u001b[39;00m\n",
      "File \u001b[1;32mc:\\Users\\Yazid\\AppData\\Local\\Programs\\Python\\Python312\\Lib\\site-packages\\pandas\\core\\frame.py:4102\u001b[0m, in \u001b[0;36mDataFrame.__getitem__\u001b[1;34m(self, key)\u001b[0m\n\u001b[0;32m   4100\u001b[0m \u001b[38;5;28;01mif\u001b[39;00m \u001b[38;5;28mself\u001b[39m\u001b[38;5;241m.\u001b[39mcolumns\u001b[38;5;241m.\u001b[39mnlevels \u001b[38;5;241m>\u001b[39m \u001b[38;5;241m1\u001b[39m:\n\u001b[0;32m   4101\u001b[0m     \u001b[38;5;28;01mreturn\u001b[39;00m \u001b[38;5;28mself\u001b[39m\u001b[38;5;241m.\u001b[39m_getitem_multilevel(key)\n\u001b[1;32m-> 4102\u001b[0m indexer \u001b[38;5;241m=\u001b[39m \u001b[38;5;28;43mself\u001b[39;49m\u001b[38;5;241;43m.\u001b[39;49m\u001b[43mcolumns\u001b[49m\u001b[38;5;241;43m.\u001b[39;49m\u001b[43mget_loc\u001b[49m\u001b[43m(\u001b[49m\u001b[43mkey\u001b[49m\u001b[43m)\u001b[49m\n\u001b[0;32m   4103\u001b[0m \u001b[38;5;28;01mif\u001b[39;00m is_integer(indexer):\n\u001b[0;32m   4104\u001b[0m     indexer \u001b[38;5;241m=\u001b[39m [indexer]\n",
      "File \u001b[1;32mc:\\Users\\Yazid\\AppData\\Local\\Programs\\Python\\Python312\\Lib\\site-packages\\pandas\\core\\indexes\\base.py:3812\u001b[0m, in \u001b[0;36mIndex.get_loc\u001b[1;34m(self, key)\u001b[0m\n\u001b[0;32m   3807\u001b[0m     \u001b[38;5;28;01mif\u001b[39;00m \u001b[38;5;28misinstance\u001b[39m(casted_key, \u001b[38;5;28mslice\u001b[39m) \u001b[38;5;129;01mor\u001b[39;00m (\n\u001b[0;32m   3808\u001b[0m         \u001b[38;5;28misinstance\u001b[39m(casted_key, abc\u001b[38;5;241m.\u001b[39mIterable)\n\u001b[0;32m   3809\u001b[0m         \u001b[38;5;129;01mand\u001b[39;00m \u001b[38;5;28many\u001b[39m(\u001b[38;5;28misinstance\u001b[39m(x, \u001b[38;5;28mslice\u001b[39m) \u001b[38;5;28;01mfor\u001b[39;00m x \u001b[38;5;129;01min\u001b[39;00m casted_key)\n\u001b[0;32m   3810\u001b[0m     ):\n\u001b[0;32m   3811\u001b[0m         \u001b[38;5;28;01mraise\u001b[39;00m InvalidIndexError(key)\n\u001b[1;32m-> 3812\u001b[0m     \u001b[38;5;28;01mraise\u001b[39;00m \u001b[38;5;167;01mKeyError\u001b[39;00m(key) \u001b[38;5;28;01mfrom\u001b[39;00m\u001b[38;5;250m \u001b[39m\u001b[38;5;21;01merr\u001b[39;00m\n\u001b[0;32m   3813\u001b[0m \u001b[38;5;28;01mexcept\u001b[39;00m \u001b[38;5;167;01mTypeError\u001b[39;00m:\n\u001b[0;32m   3814\u001b[0m     \u001b[38;5;66;03m# If we have a listlike key, _check_indexing_error will raise\u001b[39;00m\n\u001b[0;32m   3815\u001b[0m     \u001b[38;5;66;03m#  InvalidIndexError. Otherwise we fall through and re-raise\u001b[39;00m\n\u001b[0;32m   3816\u001b[0m     \u001b[38;5;66;03m#  the TypeError.\u001b[39;00m\n\u001b[0;32m   3817\u001b[0m     \u001b[38;5;28mself\u001b[39m\u001b[38;5;241m.\u001b[39m_check_indexing_error(key)\n",
      "\u001b[1;31mKeyError\u001b[0m: 'colonne1'"
     ]
    }
   ],
   "source": [
    "\"\"\"\n",
    "EXERCICE - La méthode isna\n",
    "1. Testez la méthode isna sur le DataFrame df2, puis sur une colonne ou une ligne. Que renvoie-t-elle ?\n",
    "2. En appliquant les méthodes any(axis=...), mean() et max()/idxmax() sur les résultats de isna(), répondez aux questions suivantes :\n",
    "    2.1 Quelles colonnes contiennent des valeurs manquantes, lesquelles n'en contiennent pas ?\n",
    "    2.2 Quel est le pourcentage de valeurs manquantes dans le DF (a) par colonne (b) globalement ? Quelle variable contient le plus de NaN ?\n",
    "    2.3 Quel est le pourcentage d'indices du DF pour lesquels toutes les variables sont présentes ?\n",
    "\"\"\"\n",
    "\n",
    "#Tester isna()\n",
    "print(df2.isna())              \n",
    "print(df2['colonne1'].isna())  \n",
    "print(df2.loc[0].isna())      \n",
    "\n",
    "#2️.1 Colonnes contenant des NaN\n",
    "print('Question 2.1')\n",
    "colonnes_nan = df2.isna().any()\n",
    "print(colonnes_nan)\n",
    "\n",
    "#2️.2 Pourcentage de valeurs manquantes\n",
    "print('Question 2.2')\n",
    "\n",
    "#(a) par colonne\n",
    "pourcentage_col = df2.isna().mean() * 100\n",
    "print(\"Pourcentage de NaN par colonne :\")\n",
    "print(pourcentage_col)\n",
    "\n",
    "#(b) globalement\n",
    "pourcentage_global = df2.isna().mean().mean() * 100\n",
    "print(f\"Pourcentage global de NaN : {pourcentage_global:.2f}%\")\n",
    "\n",
    "#Variable avec le plus de NaN\n",
    "col_plus_nan = pourcentage_col.idxmax()\n",
    "print(f\"Variable avec le plus de NaN : {col_plus_nan}\")\n",
    "\n",
    "#2️.3 Pourcentage d’indices avec toutes les variables présentes\n",
    "print('Question 2.3')\n",
    "pourcentage_complet = (1 - df2.isna().any(axis=1).mean()) * 100\n",
    "print(f\"Pourcentage de lignes complètes : {pourcentage_complet:.2f}%\")\n"
   ]
  },
  {
   "cell_type": "code",
   "execution_count": null,
   "metadata": {},
   "outputs": [],
   "source": [
    "\"\"\"\n",
    "EXERCICE - La méthode dropna\n",
    "La méthode dropna permet d'éliminer les valeurs manquantes (NaN). Lisez d'abord sa documentation.\n",
    "1. À quoi correspondent les arguments \"axis\" et \"how\" ?\n",
    "2. Éliminez toutes les lignes contenant uniquement des valeurs manquantes.\n",
    "3. Éliminez toutes les lignes contenant au moins une valeur manquante. Combien y a-t-il de lignes de différence ?\n",
    "4. Éliminez toutes les colonnes contenant au moins une valeur manquante.\n"
   ]
  },
  {
   "cell_type": "markdown",
   "metadata": {},
   "source": [
    "axis = 1 : Lignes / axis = 0 : Colonnes\n",
    " \n",
    "how = \"all\" : supprime si toutes les valeurs sont Nan\n",
    "how = \"any\" : supprime si au moins une valeur est NaN"
   ]
  },
  {
   "cell_type": "code",
   "execution_count": null,
   "metadata": {},
   "outputs": [
    {
     "name": "stdout",
     "output_type": "stream",
     "text": [
      "Différence de nombre de lignes : 64\n"
     ]
    }
   ],
   "source": [
    "#Supprimer les lignes contenant uniquement des NaN\n",
    "df_all = df2.dropna(axis=0, how='all')\n",
    "\n",
    "#Supprimer les lignes contenant au moins une valeur manquante\n",
    "df_any = df2.dropna(axis=0, how='any')\n",
    "\n",
    "diff = len(df_all) - len(df_any)\n",
    "print(f\"Différence de nombre de lignes : {diff}\")\n",
    "\n",
    "#Supprimer les colonnes contenant au moins une valeur manquante\n",
    "df_cols = df2.dropna(axis=1, how='any')\n"
   ]
  },
  {
   "cell_type": "code",
   "execution_count": 13,
   "metadata": {},
   "outputs": [
    {
     "name": "stdout",
     "output_type": "stream",
     "text": [
      "Avant remplissage :\n",
      "       nom   age\n",
      "0    Alice  24.0\n",
      "1      Bob   NaN\n",
      "2  Charlie  99.0\n",
      "3    David  24.0\n",
      "\n",
      "Remplissage avec 0 :\n",
      "0    24.0\n",
      "1     0.0\n",
      "2    99.0\n",
      "3    24.0\n",
      "Name: age, dtype: float64\n",
      "\n",
      "Remplissage avec la dernière valeur précédente :\n",
      "0    24.0\n",
      "1    24.0\n",
      "2    99.0\n",
      "3    24.0\n",
      "Name: age, dtype: float64\n",
      "\n",
      "Remplissage avec la moyenne :\n",
      "0    24.0\n",
      "1    49.0\n",
      "2    99.0\n",
      "3    24.0\n",
      "Name: age, dtype: float64\n",
      "\n",
      "Remplissage avec la valeur la plus fréquente :\n",
      "0    24.0\n",
      "1    24.0\n",
      "2    99.0\n",
      "3    24.0\n",
      "Name: age, dtype: float64\n"
     ]
    },
    {
     "name": "stderr",
     "output_type": "stream",
     "text": [
      "C:\\Users\\Yazid\\AppData\\Local\\Temp\\ipykernel_8524\\38314854.py:13: FutureWarning: Series.fillna with 'method' is deprecated and will raise in a future version. Use obj.ffill() or obj.bfill() instead.\n",
      "  print(exemple['age'].fillna(method='ffill'))\n"
     ]
    }
   ],
   "source": [
    "exemple = pd.DataFrame({\n",
    "    'nom': ['Alice', 'Bob', 'Charlie', 'David'],\n",
    "    'age': [24, np.nan, 99, 24]\n",
    "})\n",
    "\n",
    "print(\"Avant remplissage :\")\n",
    "print(exemple)\n",
    "\n",
    "print(\"\\nRemplissage avec 0 :\")\n",
    "print(exemple['age'].fillna(0))\n",
    "\n",
    "print(\"\\nRemplissage avec la dernière valeur précédente :\")\n",
    "print(exemple['age'].fillna(method='ffill'))\n",
    "\n",
    "print(\"\\nRemplissage avec la moyenne :\")\n",
    "print(exemple['age'].fillna(exemple['age'].mean()))\n",
    "\n",
    "print(\"\\nRemplissage avec la valeur la plus fréquente :\")\n",
    "mode_val = exemple['age'].mode()[0]\n",
    "print(exemple['age'].fillna(mode_val))\n"
   ]
  },
  {
   "cell_type": "code",
   "execution_count": null,
   "metadata": {},
   "outputs": [],
   "source": []
  }
 ],
 "metadata": {
  "kernelspec": {
   "display_name": "Python 3",
   "language": "python",
   "name": "python3"
  },
  "language_info": {
   "codemirror_mode": {
    "name": "ipython",
    "version": 3
   },
   "file_extension": ".py",
   "mimetype": "text/x-python",
   "name": "python",
   "nbconvert_exporter": "python",
   "pygments_lexer": "ipython3",
   "version": "3.12.2"
  }
 },
 "nbformat": 4,
 "nbformat_minor": 2
}
